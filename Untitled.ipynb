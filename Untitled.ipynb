{
 "cells": [
  {
   "cell_type": "code",
   "execution_count": 41,
   "id": "de979c9c-3861-4f13-94ae-e4a771f0f437",
   "metadata": {},
   "outputs": [
    {
     "name": "stdout",
     "output_type": "stream",
     "text": [
      "['0', '0', '0', '0']\n",
      "['0', '0', '0', '0']\n",
      "['0', '0', '0', '0']\n",
      "['0', '0', '0', '0']\n",
      "['Overcast', 'Hot', 'High', 'Weak']\n",
      "['?', '?', 'High', 'Weak']\n",
      "['?', '?', '?', 'Weak']\n",
      "['?', '?', '?', 'Weak']\n",
      "['?', '?', '?', '?']\n",
      "['?', '?', '?', '?']\n",
      "['?', '?', '?', '?']\n",
      "['?', '?', '?', '?']\n",
      "['?', '?', '?', '?']\n",
      "['?', '?', '?', '?']\n",
      "['?', '?', '?', '?']\n",
      "['?', '?', '?', '?']\n"
     ]
    }
   ],
   "source": [
    "import csv\n",
    "\n",
    "def find_s_algorithm(attributes, target_attribute, dataset):\n",
    "    hypothesis = ['0'] * (len(attributes) - 1)\n",
    "    print(hypothesis)\n",
    "    for instance in dataset:\n",
    "        if instance[target_attribute] == 'Yes':\n",
    "            for i, attr in enumerate(instance[:-1]):\n",
    "                if hypothesis[i] == '0':\n",
    "                   hypothesis[i] = attr\n",
    "                elif hypothesis[i] != attr:\n",
    "                   hypothesis[i] = '?'\n",
    "            print(hypothesis)\n",
    "        else:\n",
    "            print(hypothesis)\n",
    "                \n",
    "\n",
    "def load_csv_dataset(file_path):\n",
    "    dataset = []\n",
    "    with open(file_path, 'r') as csv_file:\n",
    "        csv_reader = csv.reader(csv_file)\n",
    "        for row in csv_reader:\n",
    "            dataset.append(row)\n",
    "    return dataset\n",
    "\n",
    "# Play Tennis dataset attributes\n",
    "attributes = ['outlook', 'temperature', 'humidity', 'wind', 'play_tennis']\n",
    "\n",
    "csv_file_path = 'PlayTennis.csv'\n",
    "play_tennis_data = load_csv_dataset(csv_file_path)\n",
    "\n",
    "# Train the algorithm on the dataset\n",
    "find_s_model = find_s_algorithm(attributes, -1, play_tennis_data)  # -1 indicates the last attribute as the target\n"
   ]
  },
  {
   "cell_type": "code",
   "execution_count": null,
   "id": "df31a10a-9ed3-4cd3-8354-782eeedb3f1d",
   "metadata": {},
   "outputs": [],
   "source": []
  }
 ],
 "metadata": {
  "kernelspec": {
   "display_name": "Python 3 (ipykernel)",
   "language": "python",
   "name": "python3"
  },
  "language_info": {
   "codemirror_mode": {
    "name": "ipython",
    "version": 3
   },
   "file_extension": ".py",
   "mimetype": "text/x-python",
   "name": "python",
   "nbconvert_exporter": "python",
   "pygments_lexer": "ipython3",
   "version": "3.11.4"
  }
 },
 "nbformat": 4,
 "nbformat_minor": 5
}
